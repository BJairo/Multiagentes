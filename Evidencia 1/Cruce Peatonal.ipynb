{
 "cells": [
  {
   "cell_type": "markdown",
   "metadata": {},
   "source": [
    "# Cruce Peatonal\n",
    "\n",
    "Un cruce peatonal en una calle con un carril para cada sentido"
   ]
  },
  {
   "cell_type": "code",
   "execution_count": 714,
   "metadata": {},
   "outputs": [],
   "source": [
    "# Model design\n",
    "import agentpy as ap\n",
    "import numpy as np\n",
    "\n",
    "# Visualization\n",
    "import matplotlib.pyplot as plt\n",
    "import seaborn as sns\n",
    "import IPython\n",
    "import random\n",
    "import array"
   ]
  },
  {
   "cell_type": "markdown",
   "metadata": {},
   "source": [
    "## Agentes\n",
    "Necesitamos los siguientes agentes con sus conductas y atributos:\n",
    "### Carro\n",
    "- Movimiento\n",
    "- Dirección\n",
    "- Se detiene en luz roja y/o con un carro enfrente\n",
    "- Acelera en luz verde \n",
    "- Baja velocidad en luz amarilla\n",
    "### Semáforo\n",
    "- Cada cierto tiempo cambia el color de su luz\n",
    "- Dirección"
   ]
  },
  {
   "cell_type": "code",
   "execution_count": 715,
   "metadata": {},
   "outputs": [],
   "source": [
    "class Car(ap.Agent):\n",
    "\n",
    "    \"\"\" Agente Car \"\"\"\n",
    "\n",
    "    def setup(self):\n",
    "\n",
    "        self.speed = 1\n",
    "        \n",
    "    def setup_pos(self, space):\n",
    "        \n",
    "        self.space = space\n",
    "        self.neighbors = space.neighbors\n",
    "        self.pos = space.positions[self]\n",
    "        "
   ]
  },
  {
   "cell_type": "code",
   "execution_count": 716,
   "metadata": {},
   "outputs": [],
   "source": [
    "class CruceModel(ap.Model):\n",
    "    def setup(self):\n",
    "        \n",
    "        #Creación de carros\n",
    "        Cars = self.agents = ap.AgentList(self, self.p['totalCars'], Car)\n",
    "        \n",
    "        \n",
    "        #Creación de espacio\n",
    "        self.street = ap.Space(self, self.p['size'], torus=True)      \n",
    "        self.street.add_agents(Cars, random=True)\n",
    "        print('ANSWER:'+str(self.street))\n",
    "    \n",
    "    def step(self):\n",
    "        return super().step()\n",
    "    \n"
   ]
  },
  {
   "cell_type": "code",
   "execution_count": 717,
   "metadata": {},
   "outputs": [
    {
     "name": "stdout",
     "output_type": "stream",
     "text": [
      "ANSWER:Space (Obj 11)\n",
      "Completed: 10 steps\n",
      "Run time: 0:00:00.000997\n",
      "Simulation finished\n"
     ]
    },
    {
     "data": {
      "text/plain": [
       "array([[0.5473962 , 0.02121999, 1.23781106, 0.21229603, 1.97502296,\n",
       "        1.38904301, 0.71427585, 1.35746252, 0.80163905, 0.92676299],\n",
       "       [3.0183213 , 4.75070303, 0.46852901, 0.3211826 , 1.54742993,\n",
       "        2.46730065, 4.8433958 , 5.04911147, 1.46693705, 4.10244583]])"
      ]
     },
     "execution_count": 717,
     "metadata": {},
     "output_type": "execute_result"
    }
   ],
   "source": [
    "parameters = {\n",
    "    'steps': 10,\n",
    "    'totalCars': 10,\n",
    "    'size': [2,6],\n",
    "}\n",
    "\n",
    "model = CruceModel(parameters)\n",
    "results = model.run()\n",
    "pos = model.street.positions.values()\n",
    "np.array(list(pos)).T  # Transform"
   ]
  },
  {
   "cell_type": "code",
   "execution_count": 718,
   "metadata": {},
   "outputs": [
    {
     "data": {
      "text/plain": [
       "dict_values([array([0.5473962, 3.0183213]), array([0.02121999, 4.75070303]), array([1.23781106, 0.46852901]), array([0.21229603, 0.3211826 ]), array([1.97502296, 1.54742993]), array([1.38904301, 2.46730065]), array([0.71427585, 4.8433958 ]), array([1.35746252, 5.04911147]), array([0.80163905, 1.46693705]), array([0.92676299, 4.10244583])])"
      ]
     },
     "execution_count": 718,
     "metadata": {},
     "output_type": "execute_result"
    }
   ],
   "source": [
    "model.street.positions.values()"
   ]
  },
  {
   "cell_type": "code",
   "execution_count": 719,
   "metadata": {},
   "outputs": [
    {
     "data": {
      "text/plain": [
       "{Car (Obj 1): array([0.5473962, 3.0183213]),\n",
       " Car (Obj 2): array([0.02121999, 4.75070303]),\n",
       " Car (Obj 3): array([1.23781106, 0.46852901]),\n",
       " Car (Obj 4): array([0.21229603, 0.3211826 ]),\n",
       " Car (Obj 5): array([1.97502296, 1.54742993]),\n",
       " Car (Obj 6): array([1.38904301, 2.46730065]),\n",
       " Car (Obj 7): array([0.71427585, 4.8433958 ]),\n",
       " Car (Obj 8): array([1.35746252, 5.04911147]),\n",
       " Car (Obj 9): array([0.80163905, 1.46693705]),\n",
       " Car (Obj 10): array([0.92676299, 4.10244583])}"
      ]
     },
     "execution_count": 719,
     "metadata": {},
     "output_type": "execute_result"
    }
   ],
   "source": [
    "model.street.positions"
   ]
  },
  {
   "cell_type": "code",
   "execution_count": 720,
   "metadata": {},
   "outputs": [
    {
     "name": "stdout",
     "output_type": "stream",
     "text": [
      "{Car (Obj 1): array([0.5473962, 3.0183213]), Car (Obj 2): array([0.02121999, 4.75070303]), Car (Obj 3): array([1.23781106, 0.46852901]), Car (Obj 4): array([0.21229603, 0.3211826 ]), Car (Obj 5): array([1.97502296, 1.54742993]), Car (Obj 6): array([1.38904301, 2.46730065]), Car (Obj 7): array([0.71427585, 4.8433958 ]), Car (Obj 8): array([1.35746252, 5.04911147]), Car (Obj 9): array([0.80163905, 1.46693705]), Car (Obj 10): array([0.92676299, 4.10244583])}\n"
     ]
    }
   ],
   "source": [
    "pos = print(model.street.positions)"
   ]
  },
  {
   "cell_type": "code",
   "execution_count": 721,
   "metadata": {},
   "outputs": [
    {
     "name": "stdout",
     "output_type": "stream",
     "text": [
      "dict_items([(Car (Obj 1), array([0.5473962, 3.0183213])), (Car (Obj 2), array([0.02121999, 4.75070303])), (Car (Obj 3), array([1.23781106, 0.46852901])), (Car (Obj 4), array([0.21229603, 0.3211826 ])), (Car (Obj 5), array([1.97502296, 1.54742993])), (Car (Obj 6), array([1.38904301, 2.46730065])), (Car (Obj 7), array([0.71427585, 4.8433958 ])), (Car (Obj 8), array([1.35746252, 5.04911147])), (Car (Obj 9), array([0.80163905, 1.46693705])), (Car (Obj 10), array([0.92676299, 4.10244583]))])\n"
     ]
    }
   ],
   "source": [
    "pos = print(model.street.positions.items())"
   ]
  },
  {
   "cell_type": "code",
   "execution_count": 722,
   "metadata": {},
   "outputs": [
    {
     "name": "stdout",
     "output_type": "stream",
     "text": [
      "dict_keys([Car (Obj 1), Car (Obj 2), Car (Obj 3), Car (Obj 4), Car (Obj 5), Car (Obj 6), Car (Obj 7), Car (Obj 8), Car (Obj 9), Car (Obj 10)])\n"
     ]
    }
   ],
   "source": [
    "pos = print(model.street.positions.keys())"
   ]
  },
  {
   "cell_type": "code",
   "execution_count": 723,
   "metadata": {},
   "outputs": [
    {
     "name": "stdout",
     "output_type": "stream",
     "text": [
      "3.018321302877755\n",
      "4.750703026159208\n",
      "0.4685290108023421\n",
      "0.3211826034305749\n",
      "1.5474299291384663\n",
      "2.4673006478780666\n",
      "4.843395803644503\n",
      "5.049111470702205\n",
      "1.4669370536689135\n",
      "4.102445832535588\n"
     ]
    }
   ],
   "source": [
    "for carPos in model.agents:\n",
    "    pos0 = print(model.street.positions.get(carPos)[0])\n",
    "    pos1 = print(model.street.positions.get(carPos)[1])"
   ]
  },
  {
   "cell_type": "code",
   "execution_count": 724,
   "metadata": {},
   "outputs": [],
   "source": [
    "def animation_plot_single(m, ax):\n",
    "    ax.set_title(f\"Boids Flocking Model {2}D t={m.t}\")\n",
    "    pos = m.street.positions.values()\n",
    "    pos = np.array(list(pos)).T  # Transform\n",
    "    ax.scatter(*pos, s=1, c='black')\n",
    "    ax.set_xlim(0, m.p.size)\n",
    "    ax.set_ylim(0, m.p.size)\n",
    "    ax.set_axis_off()\n",
    "        \n",
    "def animation_plot(m, p):\n",
    "    fig = plt.figure(figsize=(7,7))\n",
    "    ax = fig.add_subplot(111)\n",
    "    animation = ap.animate(m(p), fig, ax, animation_plot_single)\n",
    "    return IPython.display.HTML(animation.to_jshtml(fps=20)) "
   ]
  },
  {
   "cell_type": "code",
   "execution_count": 725,
   "metadata": {},
   "outputs": [],
   "source": [
    "#animation_plot(CruceModel, parameters)"
   ]
  }
 ],
 "metadata": {
  "kernelspec": {
   "display_name": "Python 3.9.5 64-bit",
   "language": "python",
   "name": "python3"
  },
  "language_info": {
   "codemirror_mode": {
    "name": "ipython",
    "version": 3
   },
   "file_extension": ".py",
   "mimetype": "text/x-python",
   "name": "python",
   "nbconvert_exporter": "python",
   "pygments_lexer": "ipython3",
   "version": "3.9.5"
  },
  "orig_nbformat": 4,
  "vscode": {
   "interpreter": {
    "hash": "11938c6bc6919ae2720b4d5011047913343b08a43b18698fd82dedb0d4417594"
   }
  }
 },
 "nbformat": 4,
 "nbformat_minor": 2
}
